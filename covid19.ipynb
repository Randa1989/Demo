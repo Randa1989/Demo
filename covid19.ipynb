{
  "nbformat": 4,
  "nbformat_minor": 0,
  "metadata": {
    "colab": {
      "name": "covid19.ipynb",
      "provenance": [],
      "toc_visible": true,
      "include_colab_link": true
    },
    "kernelspec": {
      "name": "python3",
      "display_name": "Python 3"
    },
    "language_info": {
      "name": "python"
    }
  },
  "cells": [
    {
      "cell_type": "markdown",
      "metadata": {
        "id": "view-in-github",
        "colab_type": "text"
      },
      "source": [
        "<a href=\"https://colab.research.google.com/github/Randa1989/Demo/blob/main/covid19.ipynb\" target=\"_parent\"><img src=\"https://colab.research.google.com/assets/colab-badge.svg\" alt=\"Open In Colab\"/></a>"
      ]
    },
    {
      "cell_type": "markdown",
      "source": [
        "# COVID-19 tracker\n",
        "https://www.worldometers.info/coronavirus (https://www.worldometers.info/coronavirus)\n",
        "Worldometers has a credible sources of COVID19 data.\n",
        "In this exersice, we will learn how to get data from Worldmeters website\n",
        "We will save the data to a csv file, and practice how to plot the data.\n"
      ],
      "metadata": {
        "id": "vz4vhmZUnFeo"
      }
    },
    {
      "cell_type": "markdown",
      "source": [
        "## import required libraries\n"
      ],
      "metadata": {
        "id": "MV-7Z-Z6nU1K"
      }
    },
    {
      "cell_type": "markdown",
      "source": [
        "# Get data"
      ],
      "metadata": {
        "id": "bWaOIuCgnLx7"
      }
    },
    {
      "cell_type": "code",
      "execution_count": null,
      "metadata": {
        "id": "8a6iQPN_mbcP"
      },
      "outputs": [],
      "source": [
        "import requests\n",
        "from bs4 import BeautifulSoup  \n",
        "import urllib.request\n",
        "import pandas as pd"
      ]
    },
    {
      "cell_type": "markdown",
      "source": [
        "### Request data from website\n"
      ],
      "metadata": {
        "id": "tAhHCuzFnjNs"
      }
    },
    {
      "cell_type": "code",
      "source": [
        "url = \"https://www.worldometers.info/coronavirus\"\n",
        "req = requests.get(url)"
      ],
      "metadata": {
        "id": "Q8yglbRRnNUb"
      },
      "execution_count": null,
      "outputs": []
    },
    {
      "cell_type": "markdown",
      "source": [
        "### Check downloaded content\n"
      ],
      "metadata": {
        "id": "TXeZ69MxnnVV"
      }
    },
    {
      "cell_type": "code",
      "source": [
        "from bs4 import BeautifulSoup\n",
        "\n",
        "url ='https://www.worldometers.info/coronavirus'\n",
        "soup = BeautifulSoup(url)\n",
        "result = soup.findAll('title')\n",
        "for each in result:\n",
        "    print(each.get_text())"
      ],
      "metadata": {
        "id": "j2T25X_xnoBt",
        "colab": {
          "base_uri": "https://localhost:8080/"
        },
        "outputId": "0e504a44-2a1f-4eac-d08d-ea9f4f07f3cc"
      },
      "execution_count": null,
      "outputs": [
        {
          "output_type": "stream",
          "name": "stderr",
          "text": [
            "/usr/local/lib/python3.7/dist-packages/bs4/__init__.py:336: UserWarning: \"https://www.worldometers.info/coronavirus\" looks like a URL. Beautiful Soup is not an HTTP client. You should probably use an HTTP client like requests to get the document behind the URL, and feed that document to Beautiful Soup.\n",
            "  ' that document to Beautiful Soup.' % decoded_markup\n"
          ]
        }
      ]
    },
    {
      "cell_type": "code",
      "source": [
        ""
      ],
      "metadata": {
        "id": "MbaPNSYdNrL3"
      },
      "execution_count": null,
      "outputs": []
    },
    {
      "cell_type": "markdown",
      "source": [
        "# Parse html"
      ],
      "metadata": {
        "id": "n4pZ7kYRnO8F"
      }
    },
    {
      "cell_type": "code",
      "source": [
        "html_content = requests.get(url).text\n",
        "soup = BeautifulSoup(html_content, \"lxml\")"
      ],
      "metadata": {
        "id": "FChc5tAMNs5W"
      },
      "execution_count": null,
      "outputs": []
    },
    {
      "cell_type": "markdown",
      "source": [
        "*italicized text*### Parse html with BeautifulSoup\n"
      ],
      "metadata": {
        "id": "7OKjQXuEnrIU"
      }
    },
    {
      "cell_type": "code",
      "source": [
        "covid_table = soup.find(\"table\", attrs={\"id\": \"main_table_countries_today\"})\n",
        "\n",
        "head = covid_table.thead.find_all(\"tr\") \n"
      ],
      "metadata": {
        "id": "d37TOdEnnPqA"
      },
      "execution_count": null,
      "outputs": []
    },
    {
      "cell_type": "markdown",
      "source": [
        "### Search for the required table\n"
      ],
      "metadata": {
        "id": "Hmdtzq9WnuiS"
      }
    },
    {
      "cell_type": "code",
      "source": [
        "\n",
        "headings = []\n",
        "for th in head[0].find_all(\"th\"):\n",
        "    # remove any newlines and extra spaces from left and right\n",
        "    print(th.text)\n",
        "    #headings.append(td.b.text.replace('\\n', ' ').strip())\n",
        "    headings.append(th.text.replace(\"\\n\",\"\").strip())\n",
        "print(headings)\n"
      ],
      "metadata": {
        "id": "68xsssPcnxCq",
        "colab": {
          "base_uri": "https://localhost:8080/"
        },
        "outputId": "513372c7-b674-43b5-9b7b-0fa5065bf3b0"
      },
      "execution_count": null,
      "outputs": [
        {
          "output_type": "stream",
          "name": "stdout",
          "text": [
            "#\n",
            "Country,Other\n",
            "TotalCases\n",
            "NewCases\n",
            "TotalDeaths\n",
            "NewDeaths\n",
            "TotalRecovered\n",
            "NewRecovered\n",
            "ActiveCases\n",
            "Serious,Critical\n",
            "Tot Cases/1M pop\n",
            "Deaths/1M pop\n",
            "TotalTests\n",
            "Tests/\n",
            "1M pop\n",
            "\n",
            "Population\n",
            "Continent\n",
            "1 Caseevery X ppl\n",
            "1 Deathevery X ppl\n",
            "1 Testevery X ppl\n",
            "New Cases/1M pop\n",
            "New Deaths/1M pop\n",
            "Active Cases/1M pop\n",
            "['#', 'Country,Other', 'TotalCases', 'NewCases', 'TotalDeaths', 'NewDeaths', 'TotalRecovered', 'NewRecovered', 'ActiveCases', 'Serious,Critical', 'Tot\\xa0Cases/1M pop', 'Deaths/1M pop', 'TotalTests', 'Tests/1M pop', 'Population', 'Continent', '1 Caseevery X ppl', '1 Deathevery X ppl', '1 Testevery X ppl', 'New Cases/1M pop', 'New Deaths/1M pop', 'Active Cases/1M pop']\n"
          ]
        }
      ]
    },
    {
      "cell_type": "markdown",
      "source": [
        "### Check Result\n"
      ],
      "metadata": {
        "id": "WUPQ6MQRnwQL"
      }
    },
    {
      "cell_type": "code",
      "source": [
        ""
      ],
      "metadata": {
        "id": "DaGog9zUXS5t"
      },
      "execution_count": null,
      "outputs": []
    },
    {
      "cell_type": "code",
      "source": [
        ""
      ],
      "metadata": {
        "id": "FpmktaP7n2CF"
      },
      "execution_count": null,
      "outputs": []
    },
    {
      "cell_type": "markdown",
      "source": [
        "### Get all the rows\n"
      ],
      "metadata": {
        "id": "Xjzv4NUKn3Ng"
      }
    },
    {
      "cell_type": "code",
      "source": [
        "body = covid_table.tbody.find_all(\"tr\") \n",
        "body[0]"
      ],
      "metadata": {
        "id": "xN5hZE7in41E",
        "colab": {
          "base_uri": "https://localhost:8080/"
        },
        "outputId": "e11f8a07-c07d-4a9b-da82-22278a90a88c"
      },
      "execution_count": null,
      "outputs": [
        {
          "output_type": "execute_result",
          "data": {
            "text/plain": [
              "<tr class=\"total_row_world row_continent\" data-continent=\"North America\" style=\"display: none\">\n",
              "<td></td>\n",
              "<td style=\"text-align:left;\">\n",
              "<nobr>North America</nobr>\n",
              "</td>\n",
              "<td>104,765,234</td>\n",
              "<td>+17,479</td>\n",
              "<td>1,485,358</td>\n",
              "<td>+42</td>\n",
              "<td>98,326,569</td>\n",
              "<td>+6,087</td>\n",
              "<td>4,953,307</td>\n",
              "<td>8,485</td>\n",
              "<td></td>\n",
              "<td></td>\n",
              "<td></td>\n",
              "<td></td>\n",
              "<td></td>\n",
              "<td data-continent=\"North America\" style=\"display:none;\">North America</td>\n",
              "<td>\n",
              "</td>\n",
              "<td></td>\n",
              "<td></td>\n",
              "<td></td>\n",
              "<td></td>\n",
              "<td></td>\n",
              "</tr>"
            ]
          },
          "metadata": {},
          "execution_count": 47
        }
      ]
    },
    {
      "cell_type": "markdown",
      "source": [
        "### Check Result\n"
      ],
      "metadata": {
        "id": "1Xj_wSARn5bw"
      }
    },
    {
      "cell_type": "code",
      "source": [
        ""
      ],
      "metadata": {
        "id": "lHgmLDRgoxRn"
      },
      "execution_count": null,
      "outputs": []
    },
    {
      "cell_type": "markdown",
      "source": [
        "# Strore data"
      ],
      "metadata": {
        "id": "6ouD1cWioFMm"
      }
    },
    {
      "cell_type": "code",
      "source": [
        "data = []\n",
        "for r in range(1,len(body)):\n",
        "    row = [] # empty lsit to hold one row data\n",
        "    for tr in body[r].find_all(\"td\"):\n",
        "        row.append(tr.text.replace(\"\\n\",\"\").strip())\n",
        "        #append row data to row after removing newlines escape and triming unnecesary spaces\n",
        "    data.append(row)"
      ],
      "metadata": {
        "id": "UK5Hb0YMoyje"
      },
      "execution_count": null,
      "outputs": []
    },
    {
      "cell_type": "markdown",
      "source": [
        "### Store rows into list (data)\n"
      ],
      "metadata": {
        "id": "Hov0Th_QoHvw"
      }
    },
    {
      "cell_type": "code",
      "source": [
        ""
      ],
      "metadata": {
        "id": "G-2vjN4GoLi0"
      },
      "execution_count": null,
      "outputs": []
    },
    {
      "cell_type": "markdown",
      "source": [
        "### Convert list into DataFrame\n"
      ],
      "metadata": {
        "id": "kgW4QNkkoK7E"
      }
    },
    {
      "cell_type": "code",
      "source": [
        "df = pd.DataFrame(data,columns=headings)\n",
        "df.head(10)"
      ],
      "metadata": {
        "id": "oGHhbz6ioQ9H",
        "colab": {
          "base_uri": "https://localhost:8080/",
          "height": 491
        },
        "outputId": "396eff7c-c214-42c2-a223-3296da6efcd7"
      },
      "execution_count": null,
      "outputs": [
        {
          "output_type": "execute_result",
          "data": {
            "text/plain": [
              "   #  Country,Other   TotalCases  NewCases TotalDeaths NewDeaths  \\\n",
              "0              Asia  160,573,845   +86,494   1,438,143      +213   \n",
              "1     South America   59,257,978    +1,186   1,303,714             \n",
              "2            Europe  201,980,862  +161,594   1,853,065      +193   \n",
              "3           Oceania    9,604,626   +32,313      13,780       +66   \n",
              "4            Africa   12,285,126               255,753             \n",
              "5                            721                    15             \n",
              "6             World  548,468,392  +299,066   6,349,828      +514   \n",
              "7  1            USA   88,708,703             1,040,641             \n",
              "8  2          India   43,381,064               524,974             \n",
              "9  3         Brazil   32,030,729               670,282             \n",
              "\n",
              "  TotalRecovered NewRecovered ActiveCases Serious,Critical  ...  \\\n",
              "0    154,901,293     +107,497   4,234,409           10,375  ...   \n",
              "1     56,155,527       +6,595   1,798,737           10,363  ...   \n",
              "2    193,259,847      +63,652   6,867,950            5,863  ...   \n",
              "3      9,246,682       +4,543     344,164              136  ...   \n",
              "4     11,470,017                  559,356            1,026  ...   \n",
              "5            706                        0                0  ...   \n",
              "6    523,360,641     +188,374  18,757,923           36,248  ...   \n",
              "7     84,352,427                3,315,635            3,124  ...   \n",
              "8     42,761,481                   94,609              698  ...   \n",
              "9     30,566,088                  794,359            8,318  ...   \n",
              "\n",
              "      TotalTests Tests/1M pop     Population          Continent  \\\n",
              "0                                                          Asia   \n",
              "1                                                 South America   \n",
              "2                                                        Europe   \n",
              "3                                             Australia/Oceania   \n",
              "4                                                        Africa   \n",
              "5                                                                 \n",
              "6                                                           All   \n",
              "7  1,048,191,185    3,130,474    334,834,650      North America   \n",
              "8    860,258,139      611,504  1,406,791,686               Asia   \n",
              "9     63,776,166      295,887    215,542,505      South America   \n",
              "\n",
              "  1 Caseevery X ppl 1 Deathevery X ppl 1 Testevery X ppl New Cases/1M pop  \\\n",
              "0                                                                           \n",
              "1                                                                           \n",
              "2                                                                           \n",
              "3                                                                           \n",
              "4                                                                           \n",
              "5                                                                           \n",
              "6                                                                           \n",
              "7                 4                322                 0                    \n",
              "8                32              2,680                 2                    \n",
              "9                 7                322                 3                    \n",
              "\n",
              "  New Deaths/1M pop Active Cases/1M pop  \n",
              "0                                        \n",
              "1                                        \n",
              "2                                        \n",
              "3                                        \n",
              "4                                        \n",
              "5                                        \n",
              "6                                        \n",
              "7                                 9,902  \n",
              "8                                    67  \n",
              "9                                 3,685  \n",
              "\n",
              "[10 rows x 22 columns]"
            ],
            "text/html": [
              "\n",
              "  <div id=\"df-a3ce9d08-6ca9-4d44-b020-65522fdd1666\">\n",
              "    <div class=\"colab-df-container\">\n",
              "      <div>\n",
              "<style scoped>\n",
              "    .dataframe tbody tr th:only-of-type {\n",
              "        vertical-align: middle;\n",
              "    }\n",
              "\n",
              "    .dataframe tbody tr th {\n",
              "        vertical-align: top;\n",
              "    }\n",
              "\n",
              "    .dataframe thead th {\n",
              "        text-align: right;\n",
              "    }\n",
              "</style>\n",
              "<table border=\"1\" class=\"dataframe\">\n",
              "  <thead>\n",
              "    <tr style=\"text-align: right;\">\n",
              "      <th></th>\n",
              "      <th>#</th>\n",
              "      <th>Country,Other</th>\n",
              "      <th>TotalCases</th>\n",
              "      <th>NewCases</th>\n",
              "      <th>TotalDeaths</th>\n",
              "      <th>NewDeaths</th>\n",
              "      <th>TotalRecovered</th>\n",
              "      <th>NewRecovered</th>\n",
              "      <th>ActiveCases</th>\n",
              "      <th>Serious,Critical</th>\n",
              "      <th>...</th>\n",
              "      <th>TotalTests</th>\n",
              "      <th>Tests/1M pop</th>\n",
              "      <th>Population</th>\n",
              "      <th>Continent</th>\n",
              "      <th>1 Caseevery X ppl</th>\n",
              "      <th>1 Deathevery X ppl</th>\n",
              "      <th>1 Testevery X ppl</th>\n",
              "      <th>New Cases/1M pop</th>\n",
              "      <th>New Deaths/1M pop</th>\n",
              "      <th>Active Cases/1M pop</th>\n",
              "    </tr>\n",
              "  </thead>\n",
              "  <tbody>\n",
              "    <tr>\n",
              "      <th>0</th>\n",
              "      <td></td>\n",
              "      <td>Asia</td>\n",
              "      <td>160,573,845</td>\n",
              "      <td>+86,494</td>\n",
              "      <td>1,438,143</td>\n",
              "      <td>+213</td>\n",
              "      <td>154,901,293</td>\n",
              "      <td>+107,497</td>\n",
              "      <td>4,234,409</td>\n",
              "      <td>10,375</td>\n",
              "      <td>...</td>\n",
              "      <td></td>\n",
              "      <td></td>\n",
              "      <td></td>\n",
              "      <td>Asia</td>\n",
              "      <td></td>\n",
              "      <td></td>\n",
              "      <td></td>\n",
              "      <td></td>\n",
              "      <td></td>\n",
              "      <td></td>\n",
              "    </tr>\n",
              "    <tr>\n",
              "      <th>1</th>\n",
              "      <td></td>\n",
              "      <td>South America</td>\n",
              "      <td>59,257,978</td>\n",
              "      <td>+1,186</td>\n",
              "      <td>1,303,714</td>\n",
              "      <td></td>\n",
              "      <td>56,155,527</td>\n",
              "      <td>+6,595</td>\n",
              "      <td>1,798,737</td>\n",
              "      <td>10,363</td>\n",
              "      <td>...</td>\n",
              "      <td></td>\n",
              "      <td></td>\n",
              "      <td></td>\n",
              "      <td>South America</td>\n",
              "      <td></td>\n",
              "      <td></td>\n",
              "      <td></td>\n",
              "      <td></td>\n",
              "      <td></td>\n",
              "      <td></td>\n",
              "    </tr>\n",
              "    <tr>\n",
              "      <th>2</th>\n",
              "      <td></td>\n",
              "      <td>Europe</td>\n",
              "      <td>201,980,862</td>\n",
              "      <td>+161,594</td>\n",
              "      <td>1,853,065</td>\n",
              "      <td>+193</td>\n",
              "      <td>193,259,847</td>\n",
              "      <td>+63,652</td>\n",
              "      <td>6,867,950</td>\n",
              "      <td>5,863</td>\n",
              "      <td>...</td>\n",
              "      <td></td>\n",
              "      <td></td>\n",
              "      <td></td>\n",
              "      <td>Europe</td>\n",
              "      <td></td>\n",
              "      <td></td>\n",
              "      <td></td>\n",
              "      <td></td>\n",
              "      <td></td>\n",
              "      <td></td>\n",
              "    </tr>\n",
              "    <tr>\n",
              "      <th>3</th>\n",
              "      <td></td>\n",
              "      <td>Oceania</td>\n",
              "      <td>9,604,626</td>\n",
              "      <td>+32,313</td>\n",
              "      <td>13,780</td>\n",
              "      <td>+66</td>\n",
              "      <td>9,246,682</td>\n",
              "      <td>+4,543</td>\n",
              "      <td>344,164</td>\n",
              "      <td>136</td>\n",
              "      <td>...</td>\n",
              "      <td></td>\n",
              "      <td></td>\n",
              "      <td></td>\n",
              "      <td>Australia/Oceania</td>\n",
              "      <td></td>\n",
              "      <td></td>\n",
              "      <td></td>\n",
              "      <td></td>\n",
              "      <td></td>\n",
              "      <td></td>\n",
              "    </tr>\n",
              "    <tr>\n",
              "      <th>4</th>\n",
              "      <td></td>\n",
              "      <td>Africa</td>\n",
              "      <td>12,285,126</td>\n",
              "      <td></td>\n",
              "      <td>255,753</td>\n",
              "      <td></td>\n",
              "      <td>11,470,017</td>\n",
              "      <td></td>\n",
              "      <td>559,356</td>\n",
              "      <td>1,026</td>\n",
              "      <td>...</td>\n",
              "      <td></td>\n",
              "      <td></td>\n",
              "      <td></td>\n",
              "      <td>Africa</td>\n",
              "      <td></td>\n",
              "      <td></td>\n",
              "      <td></td>\n",
              "      <td></td>\n",
              "      <td></td>\n",
              "      <td></td>\n",
              "    </tr>\n",
              "    <tr>\n",
              "      <th>5</th>\n",
              "      <td></td>\n",
              "      <td></td>\n",
              "      <td>721</td>\n",
              "      <td></td>\n",
              "      <td>15</td>\n",
              "      <td></td>\n",
              "      <td>706</td>\n",
              "      <td></td>\n",
              "      <td>0</td>\n",
              "      <td>0</td>\n",
              "      <td>...</td>\n",
              "      <td></td>\n",
              "      <td></td>\n",
              "      <td></td>\n",
              "      <td></td>\n",
              "      <td></td>\n",
              "      <td></td>\n",
              "      <td></td>\n",
              "      <td></td>\n",
              "      <td></td>\n",
              "      <td></td>\n",
              "    </tr>\n",
              "    <tr>\n",
              "      <th>6</th>\n",
              "      <td></td>\n",
              "      <td>World</td>\n",
              "      <td>548,468,392</td>\n",
              "      <td>+299,066</td>\n",
              "      <td>6,349,828</td>\n",
              "      <td>+514</td>\n",
              "      <td>523,360,641</td>\n",
              "      <td>+188,374</td>\n",
              "      <td>18,757,923</td>\n",
              "      <td>36,248</td>\n",
              "      <td>...</td>\n",
              "      <td></td>\n",
              "      <td></td>\n",
              "      <td></td>\n",
              "      <td>All</td>\n",
              "      <td></td>\n",
              "      <td></td>\n",
              "      <td></td>\n",
              "      <td></td>\n",
              "      <td></td>\n",
              "      <td></td>\n",
              "    </tr>\n",
              "    <tr>\n",
              "      <th>7</th>\n",
              "      <td>1</td>\n",
              "      <td>USA</td>\n",
              "      <td>88,708,703</td>\n",
              "      <td></td>\n",
              "      <td>1,040,641</td>\n",
              "      <td></td>\n",
              "      <td>84,352,427</td>\n",
              "      <td></td>\n",
              "      <td>3,315,635</td>\n",
              "      <td>3,124</td>\n",
              "      <td>...</td>\n",
              "      <td>1,048,191,185</td>\n",
              "      <td>3,130,474</td>\n",
              "      <td>334,834,650</td>\n",
              "      <td>North America</td>\n",
              "      <td>4</td>\n",
              "      <td>322</td>\n",
              "      <td>0</td>\n",
              "      <td></td>\n",
              "      <td></td>\n",
              "      <td>9,902</td>\n",
              "    </tr>\n",
              "    <tr>\n",
              "      <th>8</th>\n",
              "      <td>2</td>\n",
              "      <td>India</td>\n",
              "      <td>43,381,064</td>\n",
              "      <td></td>\n",
              "      <td>524,974</td>\n",
              "      <td></td>\n",
              "      <td>42,761,481</td>\n",
              "      <td></td>\n",
              "      <td>94,609</td>\n",
              "      <td>698</td>\n",
              "      <td>...</td>\n",
              "      <td>860,258,139</td>\n",
              "      <td>611,504</td>\n",
              "      <td>1,406,791,686</td>\n",
              "      <td>Asia</td>\n",
              "      <td>32</td>\n",
              "      <td>2,680</td>\n",
              "      <td>2</td>\n",
              "      <td></td>\n",
              "      <td></td>\n",
              "      <td>67</td>\n",
              "    </tr>\n",
              "    <tr>\n",
              "      <th>9</th>\n",
              "      <td>3</td>\n",
              "      <td>Brazil</td>\n",
              "      <td>32,030,729</td>\n",
              "      <td></td>\n",
              "      <td>670,282</td>\n",
              "      <td></td>\n",
              "      <td>30,566,088</td>\n",
              "      <td></td>\n",
              "      <td>794,359</td>\n",
              "      <td>8,318</td>\n",
              "      <td>...</td>\n",
              "      <td>63,776,166</td>\n",
              "      <td>295,887</td>\n",
              "      <td>215,542,505</td>\n",
              "      <td>South America</td>\n",
              "      <td>7</td>\n",
              "      <td>322</td>\n",
              "      <td>3</td>\n",
              "      <td></td>\n",
              "      <td></td>\n",
              "      <td>3,685</td>\n",
              "    </tr>\n",
              "  </tbody>\n",
              "</table>\n",
              "<p>10 rows × 22 columns</p>\n",
              "</div>\n",
              "      <button class=\"colab-df-convert\" onclick=\"convertToInteractive('df-a3ce9d08-6ca9-4d44-b020-65522fdd1666')\"\n",
              "              title=\"Convert this dataframe to an interactive table.\"\n",
              "              style=\"display:none;\">\n",
              "        \n",
              "  <svg xmlns=\"http://www.w3.org/2000/svg\" height=\"24px\"viewBox=\"0 0 24 24\"\n",
              "       width=\"24px\">\n",
              "    <path d=\"M0 0h24v24H0V0z\" fill=\"none\"/>\n",
              "    <path d=\"M18.56 5.44l.94 2.06.94-2.06 2.06-.94-2.06-.94-.94-2.06-.94 2.06-2.06.94zm-11 1L8.5 8.5l.94-2.06 2.06-.94-2.06-.94L8.5 2.5l-.94 2.06-2.06.94zm10 10l.94 2.06.94-2.06 2.06-.94-2.06-.94-.94-2.06-.94 2.06-2.06.94z\"/><path d=\"M17.41 7.96l-1.37-1.37c-.4-.4-.92-.59-1.43-.59-.52 0-1.04.2-1.43.59L10.3 9.45l-7.72 7.72c-.78.78-.78 2.05 0 2.83L4 21.41c.39.39.9.59 1.41.59.51 0 1.02-.2 1.41-.59l7.78-7.78 2.81-2.81c.8-.78.8-2.07 0-2.86zM5.41 20L4 18.59l7.72-7.72 1.47 1.35L5.41 20z\"/>\n",
              "  </svg>\n",
              "      </button>\n",
              "      \n",
              "  <style>\n",
              "    .colab-df-container {\n",
              "      display:flex;\n",
              "      flex-wrap:wrap;\n",
              "      gap: 12px;\n",
              "    }\n",
              "\n",
              "    .colab-df-convert {\n",
              "      background-color: #E8F0FE;\n",
              "      border: none;\n",
              "      border-radius: 50%;\n",
              "      cursor: pointer;\n",
              "      display: none;\n",
              "      fill: #1967D2;\n",
              "      height: 32px;\n",
              "      padding: 0 0 0 0;\n",
              "      width: 32px;\n",
              "    }\n",
              "\n",
              "    .colab-df-convert:hover {\n",
              "      background-color: #E2EBFA;\n",
              "      box-shadow: 0px 1px 2px rgba(60, 64, 67, 0.3), 0px 1px 3px 1px rgba(60, 64, 67, 0.15);\n",
              "      fill: #174EA6;\n",
              "    }\n",
              "\n",
              "    [theme=dark] .colab-df-convert {\n",
              "      background-color: #3B4455;\n",
              "      fill: #D2E3FC;\n",
              "    }\n",
              "\n",
              "    [theme=dark] .colab-df-convert:hover {\n",
              "      background-color: #434B5C;\n",
              "      box-shadow: 0px 1px 3px 1px rgba(0, 0, 0, 0.15);\n",
              "      filter: drop-shadow(0px 1px 2px rgba(0, 0, 0, 0.3));\n",
              "      fill: #FFFFFF;\n",
              "    }\n",
              "  </style>\n",
              "\n",
              "      <script>\n",
              "        const buttonEl =\n",
              "          document.querySelector('#df-a3ce9d08-6ca9-4d44-b020-65522fdd1666 button.colab-df-convert');\n",
              "        buttonEl.style.display =\n",
              "          google.colab.kernel.accessAllowed ? 'block' : 'none';\n",
              "\n",
              "        async function convertToInteractive(key) {\n",
              "          const element = document.querySelector('#df-a3ce9d08-6ca9-4d44-b020-65522fdd1666');\n",
              "          const dataTable =\n",
              "            await google.colab.kernel.invokeFunction('convertToInteractive',\n",
              "                                                     [key], {});\n",
              "          if (!dataTable) return;\n",
              "\n",
              "          const docLinkHtml = 'Like what you see? Visit the ' +\n",
              "            '<a target=\"_blank\" href=https://colab.research.google.com/notebooks/data_table.ipynb>data table notebook</a>'\n",
              "            + ' to learn more about interactive tables.';\n",
              "          element.innerHTML = '';\n",
              "          dataTable['output_type'] = 'display_data';\n",
              "          await google.colab.output.renderOutput(dataTable, element);\n",
              "          const docLink = document.createElement('div');\n",
              "          docLink.innerHTML = docLinkHtml;\n",
              "          element.appendChild(docLink);\n",
              "        }\n",
              "      </script>\n",
              "    </div>\n",
              "  </div>\n",
              "  "
            ]
          },
          "metadata": {},
          "execution_count": 49
        }
      ]
    },
    {
      "cell_type": "markdown",
      "source": [
        "### Check the DataFrame\n"
      ],
      "metadata": {
        "id": "QaMyhiXloSPH"
      }
    },
    {
      "cell_type": "code",
      "source": [
        ""
      ],
      "metadata": {
        "id": "Z4sOT-tOoVoI"
      },
      "execution_count": null,
      "outputs": []
    },
    {
      "cell_type": "markdown",
      "source": [
        "### Set the first row as the header, and remove the second row\n"
      ],
      "metadata": {
        "id": "Ow1AKtd8oV-T"
      }
    },
    {
      "cell_type": "code",
      "source": [
        "data = df[df[\"#\"]!=\"\"].reset_index(drop=True)\n",
        "# Data points with # value are the countries of the world while the data points with\n",
        "# null values for # columns are features like continents totals etc\n",
        "data = data.drop_duplicates(subset = [\"Country,Other\"])"
      ],
      "metadata": {
        "id": "iDBCoe49oYPH"
      },
      "execution_count": null,
      "outputs": []
    },
    {
      "cell_type": "markdown",
      "source": [
        "### Check the DataFrame\n"
      ],
      "metadata": {
        "id": "XdxGHLUeoZrY"
      }
    },
    {
      "cell_type": "code",
      "source": [
        "cols = ['Country,Other', 'TotalCases', 'NewCases', 'TotalDeaths',\n",
        "       'NewDeaths', 'TotalRecovered', 'NewRecovered', 'ActiveCases',\n",
        "       'Serious,Critical', 'TotalTests']\n",
        "# Extract the columns we are interested in a display the first 5 rows\n",
        "data_final = data[cols]\n",
        "data_final.head()"
      ],
      "metadata": {
        "id": "cfEN6p3sobYG",
        "colab": {
          "base_uri": "https://localhost:8080/",
          "height": 270
        },
        "outputId": "83fa87f9-114b-46ef-c040-541ab1be3427"
      },
      "execution_count": null,
      "outputs": [
        {
          "output_type": "execute_result",
          "data": {
            "text/plain": [
              "  Country,Other  TotalCases NewCases TotalDeaths NewDeaths TotalRecovered  \\\n",
              "0           USA  88,708,703            1,040,641               84,352,427   \n",
              "1         India  43,381,064              524,974               42,761,481   \n",
              "2        Brazil  32,030,729              670,282               30,566,088   \n",
              "3        France  30,513,713              149,317               29,471,747   \n",
              "4       Germany  27,771,111  +89,336     140,734       +84     26,406,100   \n",
              "\n",
              "  NewRecovered ActiveCases Serious,Critical     TotalTests  \n",
              "0                3,315,635            3,124  1,048,191,185  \n",
              "1                   94,609              698    860,258,139  \n",
              "2                  794,359            8,318     63,776,166  \n",
              "3                  892,649              869    271,490,188  \n",
              "4      +20,500   1,224,277              780    122,332,384  "
            ],
            "text/html": [
              "\n",
              "  <div id=\"df-fb531e8e-ea55-411e-aa04-136ec9db485b\">\n",
              "    <div class=\"colab-df-container\">\n",
              "      <div>\n",
              "<style scoped>\n",
              "    .dataframe tbody tr th:only-of-type {\n",
              "        vertical-align: middle;\n",
              "    }\n",
              "\n",
              "    .dataframe tbody tr th {\n",
              "        vertical-align: top;\n",
              "    }\n",
              "\n",
              "    .dataframe thead th {\n",
              "        text-align: right;\n",
              "    }\n",
              "</style>\n",
              "<table border=\"1\" class=\"dataframe\">\n",
              "  <thead>\n",
              "    <tr style=\"text-align: right;\">\n",
              "      <th></th>\n",
              "      <th>Country,Other</th>\n",
              "      <th>TotalCases</th>\n",
              "      <th>NewCases</th>\n",
              "      <th>TotalDeaths</th>\n",
              "      <th>NewDeaths</th>\n",
              "      <th>TotalRecovered</th>\n",
              "      <th>NewRecovered</th>\n",
              "      <th>ActiveCases</th>\n",
              "      <th>Serious,Critical</th>\n",
              "      <th>TotalTests</th>\n",
              "    </tr>\n",
              "  </thead>\n",
              "  <tbody>\n",
              "    <tr>\n",
              "      <th>0</th>\n",
              "      <td>USA</td>\n",
              "      <td>88,708,703</td>\n",
              "      <td></td>\n",
              "      <td>1,040,641</td>\n",
              "      <td></td>\n",
              "      <td>84,352,427</td>\n",
              "      <td></td>\n",
              "      <td>3,315,635</td>\n",
              "      <td>3,124</td>\n",
              "      <td>1,048,191,185</td>\n",
              "    </tr>\n",
              "    <tr>\n",
              "      <th>1</th>\n",
              "      <td>India</td>\n",
              "      <td>43,381,064</td>\n",
              "      <td></td>\n",
              "      <td>524,974</td>\n",
              "      <td></td>\n",
              "      <td>42,761,481</td>\n",
              "      <td></td>\n",
              "      <td>94,609</td>\n",
              "      <td>698</td>\n",
              "      <td>860,258,139</td>\n",
              "    </tr>\n",
              "    <tr>\n",
              "      <th>2</th>\n",
              "      <td>Brazil</td>\n",
              "      <td>32,030,729</td>\n",
              "      <td></td>\n",
              "      <td>670,282</td>\n",
              "      <td></td>\n",
              "      <td>30,566,088</td>\n",
              "      <td></td>\n",
              "      <td>794,359</td>\n",
              "      <td>8,318</td>\n",
              "      <td>63,776,166</td>\n",
              "    </tr>\n",
              "    <tr>\n",
              "      <th>3</th>\n",
              "      <td>France</td>\n",
              "      <td>30,513,713</td>\n",
              "      <td></td>\n",
              "      <td>149,317</td>\n",
              "      <td></td>\n",
              "      <td>29,471,747</td>\n",
              "      <td></td>\n",
              "      <td>892,649</td>\n",
              "      <td>869</td>\n",
              "      <td>271,490,188</td>\n",
              "    </tr>\n",
              "    <tr>\n",
              "      <th>4</th>\n",
              "      <td>Germany</td>\n",
              "      <td>27,771,111</td>\n",
              "      <td>+89,336</td>\n",
              "      <td>140,734</td>\n",
              "      <td>+84</td>\n",
              "      <td>26,406,100</td>\n",
              "      <td>+20,500</td>\n",
              "      <td>1,224,277</td>\n",
              "      <td>780</td>\n",
              "      <td>122,332,384</td>\n",
              "    </tr>\n",
              "  </tbody>\n",
              "</table>\n",
              "</div>\n",
              "      <button class=\"colab-df-convert\" onclick=\"convertToInteractive('df-fb531e8e-ea55-411e-aa04-136ec9db485b')\"\n",
              "              title=\"Convert this dataframe to an interactive table.\"\n",
              "              style=\"display:none;\">\n",
              "        \n",
              "  <svg xmlns=\"http://www.w3.org/2000/svg\" height=\"24px\"viewBox=\"0 0 24 24\"\n",
              "       width=\"24px\">\n",
              "    <path d=\"M0 0h24v24H0V0z\" fill=\"none\"/>\n",
              "    <path d=\"M18.56 5.44l.94 2.06.94-2.06 2.06-.94-2.06-.94-.94-2.06-.94 2.06-2.06.94zm-11 1L8.5 8.5l.94-2.06 2.06-.94-2.06-.94L8.5 2.5l-.94 2.06-2.06.94zm10 10l.94 2.06.94-2.06 2.06-.94-2.06-.94-.94-2.06-.94 2.06-2.06.94z\"/><path d=\"M17.41 7.96l-1.37-1.37c-.4-.4-.92-.59-1.43-.59-.52 0-1.04.2-1.43.59L10.3 9.45l-7.72 7.72c-.78.78-.78 2.05 0 2.83L4 21.41c.39.39.9.59 1.41.59.51 0 1.02-.2 1.41-.59l7.78-7.78 2.81-2.81c.8-.78.8-2.07 0-2.86zM5.41 20L4 18.59l7.72-7.72 1.47 1.35L5.41 20z\"/>\n",
              "  </svg>\n",
              "      </button>\n",
              "      \n",
              "  <style>\n",
              "    .colab-df-container {\n",
              "      display:flex;\n",
              "      flex-wrap:wrap;\n",
              "      gap: 12px;\n",
              "    }\n",
              "\n",
              "    .colab-df-convert {\n",
              "      background-color: #E8F0FE;\n",
              "      border: none;\n",
              "      border-radius: 50%;\n",
              "      cursor: pointer;\n",
              "      display: none;\n",
              "      fill: #1967D2;\n",
              "      height: 32px;\n",
              "      padding: 0 0 0 0;\n",
              "      width: 32px;\n",
              "    }\n",
              "\n",
              "    .colab-df-convert:hover {\n",
              "      background-color: #E2EBFA;\n",
              "      box-shadow: 0px 1px 2px rgba(60, 64, 67, 0.3), 0px 1px 3px 1px rgba(60, 64, 67, 0.15);\n",
              "      fill: #174EA6;\n",
              "    }\n",
              "\n",
              "    [theme=dark] .colab-df-convert {\n",
              "      background-color: #3B4455;\n",
              "      fill: #D2E3FC;\n",
              "    }\n",
              "\n",
              "    [theme=dark] .colab-df-convert:hover {\n",
              "      background-color: #434B5C;\n",
              "      box-shadow: 0px 1px 3px 1px rgba(0, 0, 0, 0.15);\n",
              "      filter: drop-shadow(0px 1px 2px rgba(0, 0, 0, 0.3));\n",
              "      fill: #FFFFFF;\n",
              "    }\n",
              "  </style>\n",
              "\n",
              "      <script>\n",
              "        const buttonEl =\n",
              "          document.querySelector('#df-fb531e8e-ea55-411e-aa04-136ec9db485b button.colab-df-convert');\n",
              "        buttonEl.style.display =\n",
              "          google.colab.kernel.accessAllowed ? 'block' : 'none';\n",
              "\n",
              "        async function convertToInteractive(key) {\n",
              "          const element = document.querySelector('#df-fb531e8e-ea55-411e-aa04-136ec9db485b');\n",
              "          const dataTable =\n",
              "            await google.colab.kernel.invokeFunction('convertToInteractive',\n",
              "                                                     [key], {});\n",
              "          if (!dataTable) return;\n",
              "\n",
              "          const docLinkHtml = 'Like what you see? Visit the ' +\n",
              "            '<a target=\"_blank\" href=https://colab.research.google.com/notebooks/data_table.ipynb>data table notebook</a>'\n",
              "            + ' to learn more about interactive tables.';\n",
              "          element.innerHTML = '';\n",
              "          dataTable['output_type'] = 'display_data';\n",
              "          await google.colab.output.renderOutput(dataTable, element);\n",
              "          const docLink = document.createElement('div');\n",
              "          docLink.innerHTML = docLinkHtml;\n",
              "          element.appendChild(docLink);\n",
              "        }\n",
              "      </script>\n",
              "    </div>\n",
              "  </div>\n",
              "  "
            ]
          },
          "metadata": {},
          "execution_count": 52
        }
      ]
    },
    {
      "cell_type": "markdown",
      "source": [
        "### Save as csv file\n"
      ],
      "metadata": {
        "id": "bGqdlCtDob-V"
      }
    },
    {
      "cell_type": "code",
      "source": [
        "from google.colab import drive\n",
        "drive.mount('/gdrive')\n",
        "with open('/gdrive/My Drive/foo.csv', 'w') as f:\n",
        "  df.to_csv(f)"
      ],
      "metadata": {
        "id": "iqOmv7sXoeZb"
      },
      "execution_count": null,
      "outputs": []
    }
  ]
}