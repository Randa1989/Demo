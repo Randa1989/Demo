{
  "cells": [
    {
      "cell_type": "markdown",
      "metadata": {
        "id": "view-in-github",
        "colab_type": "text"
      },
      "source": [
        "<a href=\"https://colab.research.google.com/github/Randa1989/Demo/blob/main/corona2021_.ipynb\" target=\"_parent\"><img src=\"https://colab.research.google.com/assets/colab-badge.svg\" alt=\"Open In Colab\"/></a>"
      ]
    },
    {
      "metadata": {
        "id": "ykOXuBf1u400"
      },
      "cell_type": "code",
      "source": [
        "import pandas as pd\n",
        "from pandas import DataFrame, Series\n",
        "import numpy as np\n",
        "import matplotlib.pyplot as plt\n",
        "from pylab import rcParams\n",
        "import seaborn as sb\n",
        "from datetime import date"
      ],
      "execution_count": null,
      "outputs": []
    },
    {
      "metadata": {
        "id": "0seS-Amsu406"
      },
      "cell_type": "code",
      "source": [
        "def make_dashboard(x, corona_change, unemployment, title, file_name):\n",
        "    output_file(file_name)\n",
        "    p = figure(title=title, x_axis_label='year', y_axis_label='%')\n",
        "    p.line(x.squeeze(), corona_change.squeeze(), color=\"firebrick\", line_width=4, legend=\"% corona change\")\n",
        "    p.line(x.squeeze(), country .squeeze(), line_width=4, legend=\"% weekly_count\")\n",
        "    show(p)"
      ],
      "execution_count": null,
      "outputs": []
    },
    {
      "metadata": {
        "id": "W0-XTl7eu408"
      },
      "cell_type": "code",
      "source": [
        "links={'corona':'https://opendata.ecdc.europa.eu/covid19/nationalcasedeath/csv'}"
      ],
      "execution_count": null,
      "outputs": []
    },
    {
      "metadata": {
        "id": "IekZYMNHu409"
      },
      "cell_type": "code",
      "source": [
        "%matplotlib inline\n",
        "rcParams['figure.figsize'] = 10,10\n",
        "rcParams['font.size'] = 15\n",
        "sb.set_style('whitegrid')\n",
        "sns.set_palette(\"pastel\")"
      ],
      "execution_count": null,
      "outputs": []
    },
    {
      "metadata": {
        "id": "IzQ5l6NHu40-",
        "outputId": "22fe5c58-b72c-4170-d6d2-fa873643545a"
      },
      "cell_type": "code",
      "source": [
        "import pandas as pd\n",
        "csv_path=links['corona']\n",
        "df=pd.read_csv(csv_path)\n",
        "df.head()"
      ],
      "execution_count": null,
      "outputs": [
        {
          "output_type": "execute_result",
          "execution_count": 12,
          "data": {
            "text/plain": "       country country_code continent  population indicator  weekly_count  \\\n0  Afghanistan          AFG      Asia    38928341     cases             0   \n1  Afghanistan          AFG      Asia    38928341     cases             0   \n2  Afghanistan          AFG      Asia    38928341     cases             0   \n3  Afghanistan          AFG      Asia    38928341     cases             0   \n4  Afghanistan          AFG      Asia    38928341     cases             0   \n\n  year_week  rate_14_day  cumulative_count  \\\n0   2020-01          NaN                 0   \n1   2020-02          0.0                 0   \n2   2020-03          0.0                 0   \n3   2020-04          0.0                 0   \n4   2020-05          0.0                 0   \n\n                                        source  \n0  Epidemic intelligence, national weekly data  \n1  Epidemic intelligence, national weekly data  \n2  Epidemic intelligence, national weekly data  \n3  Epidemic intelligence, national weekly data  \n4  Epidemic intelligence, national weekly data  ",
            "text/html": "<div>\n<style scoped>\n    .dataframe tbody tr th:only-of-type {\n        vertical-align: middle;\n    }\n\n    .dataframe tbody tr th {\n        vertical-align: top;\n    }\n\n    .dataframe thead th {\n        text-align: right;\n    }\n</style>\n<table border=\"1\" class=\"dataframe\">\n  <thead>\n    <tr style=\"text-align: right;\">\n      <th></th>\n      <th>country</th>\n      <th>country_code</th>\n      <th>continent</th>\n      <th>population</th>\n      <th>indicator</th>\n      <th>weekly_count</th>\n      <th>year_week</th>\n      <th>rate_14_day</th>\n      <th>cumulative_count</th>\n      <th>source</th>\n    </tr>\n  </thead>\n  <tbody>\n    <tr>\n      <th>0</th>\n      <td>Afghanistan</td>\n      <td>AFG</td>\n      <td>Asia</td>\n      <td>38928341</td>\n      <td>cases</td>\n      <td>0</td>\n      <td>2020-01</td>\n      <td>NaN</td>\n      <td>0</td>\n      <td>Epidemic intelligence, national weekly data</td>\n    </tr>\n    <tr>\n      <th>1</th>\n      <td>Afghanistan</td>\n      <td>AFG</td>\n      <td>Asia</td>\n      <td>38928341</td>\n      <td>cases</td>\n      <td>0</td>\n      <td>2020-02</td>\n      <td>0.0</td>\n      <td>0</td>\n      <td>Epidemic intelligence, national weekly data</td>\n    </tr>\n    <tr>\n      <th>2</th>\n      <td>Afghanistan</td>\n      <td>AFG</td>\n      <td>Asia</td>\n      <td>38928341</td>\n      <td>cases</td>\n      <td>0</td>\n      <td>2020-03</td>\n      <td>0.0</td>\n      <td>0</td>\n      <td>Epidemic intelligence, national weekly data</td>\n    </tr>\n    <tr>\n      <th>3</th>\n      <td>Afghanistan</td>\n      <td>AFG</td>\n      <td>Asia</td>\n      <td>38928341</td>\n      <td>cases</td>\n      <td>0</td>\n      <td>2020-04</td>\n      <td>0.0</td>\n      <td>0</td>\n      <td>Epidemic intelligence, national weekly data</td>\n    </tr>\n    <tr>\n      <th>4</th>\n      <td>Afghanistan</td>\n      <td>AFG</td>\n      <td>Asia</td>\n      <td>38928341</td>\n      <td>cases</td>\n      <td>0</td>\n      <td>2020-05</td>\n      <td>0.0</td>\n      <td>0</td>\n      <td>Epidemic intelligence, national weekly data</td>\n    </tr>\n  </tbody>\n</table>\n</div>"
          },
          "metadata": {}
        }
      ]
    },
    {
      "metadata": {
        "id": "IsnWkQpIu41A",
        "outputId": "9b64334e-cd25-4131-e44a-493d504d8350"
      },
      "cell_type": "code",
      "source": [
        "print(df.tail())"
      ],
      "execution_count": null,
      "outputs": [
        {
          "output_type": "error",
          "ename": "NameError",
          "evalue": "name 'df' is not defined",
          "traceback": [
            "\u001b[0;31m---------------------------------------------------------------------------\u001b[0m",
            "\u001b[0;31mNameError\u001b[0m                                 Traceback (most recent call last)",
            "\u001b[0;32m<ipython-input-3-b09d6e6415d7>\u001b[0m in \u001b[0;36m<module>\u001b[0;34m\u001b[0m\n\u001b[0;32m----> 1\u001b[0;31m \u001b[0mprint\u001b[0m\u001b[0;34m(\u001b[0m\u001b[0mdf\u001b[0m\u001b[0;34m.\u001b[0m\u001b[0mtail\u001b[0m\u001b[0;34m(\u001b[0m\u001b[0;34m)\u001b[0m\u001b[0;34m)\u001b[0m\u001b[0;34m\u001b[0m\u001b[0;34m\u001b[0m\u001b[0m\n\u001b[0m",
            "\u001b[0;31mNameError\u001b[0m: name 'df' is not defined"
          ]
        }
      ]
    },
    {
      "metadata": {
        "id": "LUgT2w7cu41B",
        "outputId": "bdd40ada-509f-4868-c8e0-0ef7117ba56a"
      },
      "cell_type": "code",
      "source": [
        "import pandas as pd\n",
        "links=links={'corona':'https://opendata.ecdc.europa.eu/covid19/nationalcasedeath/csv'}\n",
        "df=pd.read_csv(csv_path)\n",
        "df1=df[df['weekly_count']>100]\n",
        "df1"
      ],
      "execution_count": null,
      "outputs": [
        {
          "output_type": "execute_result",
          "execution_count": 14,
          "data": {
            "text/plain": "           country country_code continent  population indicator  weekly_count  \\\n13     Afghanistan          AFG      Asia    38928341     cases           185   \n14     Afghanistan          AFG      Asia    38928341     cases           308   \n15     Afghanistan          AFG      Asia    38928341     cases           389   \n16     Afghanistan          AFG      Asia    38928341     cases           535   \n17     Afghanistan          AFG      Asia    38928341     cases          1173   \n...            ...          ...       ...         ...       ...           ...   \n22363     Zimbabwe          ZWE    Africa    14862927     cases           620   \n22406     Zimbabwe          ZWE    Africa    14862927    deaths           127   \n22407     Zimbabwe          ZWE    Africa    14862927    deaths           206   \n22408     Zimbabwe          ZWE    Africa    14862927    deaths           292   \n22409     Zimbabwe          ZWE    Africa    14862927    deaths           229   \n\n      year_week  rate_14_day  cumulative_count  \\\n13      2020-14     0.680738               299   \n14      2020-15     1.266430               607   \n15      2020-16     1.790469               996   \n16      2020-17     2.373592              1531   \n17      2020-18     4.387549              2704   \n...         ...          ...               ...   \n22363   2021-06    10.926515             35172   \n22406   2021-01    10.294069               507   \n22407   2021-02    22.404739               713   \n22408   2021-03    33.506186              1005   \n22409   2021-04    35.053661              1234   \n\n                                            source  \n13     Epidemic intelligence, national weekly data  \n14     Epidemic intelligence, national weekly data  \n15     Epidemic intelligence, national weekly data  \n16     Epidemic intelligence, national weekly data  \n17     Epidemic intelligence, national weekly data  \n...                                            ...  \n22363  Epidemic intelligence, national weekly data  \n22406  Epidemic intelligence, national weekly data  \n22407  Epidemic intelligence, national weekly data  \n22408  Epidemic intelligence, national weekly data  \n22409  Epidemic intelligence, national weekly data  \n\n[8625 rows x 10 columns]",
            "text/html": "<div>\n<style scoped>\n    .dataframe tbody tr th:only-of-type {\n        vertical-align: middle;\n    }\n\n    .dataframe tbody tr th {\n        vertical-align: top;\n    }\n\n    .dataframe thead th {\n        text-align: right;\n    }\n</style>\n<table border=\"1\" class=\"dataframe\">\n  <thead>\n    <tr style=\"text-align: right;\">\n      <th></th>\n      <th>country</th>\n      <th>country_code</th>\n      <th>continent</th>\n      <th>population</th>\n      <th>indicator</th>\n      <th>weekly_count</th>\n      <th>year_week</th>\n      <th>rate_14_day</th>\n      <th>cumulative_count</th>\n      <th>source</th>\n    </tr>\n  </thead>\n  <tbody>\n    <tr>\n      <th>13</th>\n      <td>Afghanistan</td>\n      <td>AFG</td>\n      <td>Asia</td>\n      <td>38928341</td>\n      <td>cases</td>\n      <td>185</td>\n      <td>2020-14</td>\n      <td>0.680738</td>\n      <td>299</td>\n      <td>Epidemic intelligence, national weekly data</td>\n    </tr>\n    <tr>\n      <th>14</th>\n      <td>Afghanistan</td>\n      <td>AFG</td>\n      <td>Asia</td>\n      <td>38928341</td>\n      <td>cases</td>\n      <td>308</td>\n      <td>2020-15</td>\n      <td>1.266430</td>\n      <td>607</td>\n      <td>Epidemic intelligence, national weekly data</td>\n    </tr>\n    <tr>\n      <th>15</th>\n      <td>Afghanistan</td>\n      <td>AFG</td>\n      <td>Asia</td>\n      <td>38928341</td>\n      <td>cases</td>\n      <td>389</td>\n      <td>2020-16</td>\n      <td>1.790469</td>\n      <td>996</td>\n      <td>Epidemic intelligence, national weekly data</td>\n    </tr>\n    <tr>\n      <th>16</th>\n      <td>Afghanistan</td>\n      <td>AFG</td>\n      <td>Asia</td>\n      <td>38928341</td>\n      <td>cases</td>\n      <td>535</td>\n      <td>2020-17</td>\n      <td>2.373592</td>\n      <td>1531</td>\n      <td>Epidemic intelligence, national weekly data</td>\n    </tr>\n    <tr>\n      <th>17</th>\n      <td>Afghanistan</td>\n      <td>AFG</td>\n      <td>Asia</td>\n      <td>38928341</td>\n      <td>cases</td>\n      <td>1173</td>\n      <td>2020-18</td>\n      <td>4.387549</td>\n      <td>2704</td>\n      <td>Epidemic intelligence, national weekly data</td>\n    </tr>\n    <tr>\n      <th>...</th>\n      <td>...</td>\n      <td>...</td>\n      <td>...</td>\n      <td>...</td>\n      <td>...</td>\n      <td>...</td>\n      <td>...</td>\n      <td>...</td>\n      <td>...</td>\n      <td>...</td>\n    </tr>\n    <tr>\n      <th>22363</th>\n      <td>Zimbabwe</td>\n      <td>ZWE</td>\n      <td>Africa</td>\n      <td>14862927</td>\n      <td>cases</td>\n      <td>620</td>\n      <td>2021-06</td>\n      <td>10.926515</td>\n      <td>35172</td>\n      <td>Epidemic intelligence, national weekly data</td>\n    </tr>\n    <tr>\n      <th>22406</th>\n      <td>Zimbabwe</td>\n      <td>ZWE</td>\n      <td>Africa</td>\n      <td>14862927</td>\n      <td>deaths</td>\n      <td>127</td>\n      <td>2021-01</td>\n      <td>10.294069</td>\n      <td>507</td>\n      <td>Epidemic intelligence, national weekly data</td>\n    </tr>\n    <tr>\n      <th>22407</th>\n      <td>Zimbabwe</td>\n      <td>ZWE</td>\n      <td>Africa</td>\n      <td>14862927</td>\n      <td>deaths</td>\n      <td>206</td>\n      <td>2021-02</td>\n      <td>22.404739</td>\n      <td>713</td>\n      <td>Epidemic intelligence, national weekly data</td>\n    </tr>\n    <tr>\n      <th>22408</th>\n      <td>Zimbabwe</td>\n      <td>ZWE</td>\n      <td>Africa</td>\n      <td>14862927</td>\n      <td>deaths</td>\n      <td>292</td>\n      <td>2021-03</td>\n      <td>33.506186</td>\n      <td>1005</td>\n      <td>Epidemic intelligence, national weekly data</td>\n    </tr>\n    <tr>\n      <th>22409</th>\n      <td>Zimbabwe</td>\n      <td>ZWE</td>\n      <td>Africa</td>\n      <td>14862927</td>\n      <td>deaths</td>\n      <td>229</td>\n      <td>2021-04</td>\n      <td>35.053661</td>\n      <td>1234</td>\n      <td>Epidemic intelligence, national weekly data</td>\n    </tr>\n  </tbody>\n</table>\n<p>8625 rows × 10 columns</p>\n</div>"
          },
          "metadata": {}
        }
      ]
    },
    {
      "metadata": {
        "id": "CcF8N3Dmu41D",
        "outputId": "da05a497-f9f8-4662-8945-f49994f5f944"
      },
      "cell_type": "code",
      "source": [
        "+\n"
      ],
      "execution_count": null,
      "outputs": [
        {
          "output_type": "stream",
          "text": "<class 'pandas.core.frame.DataFrame'>\nRangeIndex: 22412 entries, 0 to 22411\nData columns (total 10 columns):\n #   Column            Non-Null Count  Dtype  \n---  ------            --------------  -----  \n 0   country           22412 non-null  object \n 1   country_code      21704 non-null  object \n 2   continent         22412 non-null  object \n 3   population        22412 non-null  int64  \n 4   indicator         22412 non-null  object \n 5   weekly_count      22412 non-null  int64  \n 6   year_week         22412 non-null  object \n 7   rate_14_day       21972 non-null  float64\n 8   cumulative_count  22412 non-null  int64  \n 9   source            22412 non-null  object \ndtypes: float64(1), int64(3), object(6)\nmemory usage: 1.7+ MB\n",
          "name": "stdout"
        }
      ]
    },
    {
      "metadata": {
        "id": "-1XrhOEdu41E"
      },
      "cell_type": "code",
      "source": [
        "{'corona':'https://opendata.ecdc.europa.eu/covid19/nationalcasedeath/csv'}\n",
        "df=pd.read_csv(csv_path).describe()\n"
      ],
      "execution_count": null,
      "outputs": []
    },
    {
      "metadata": {
        "id": "byoLrGm0u41H",
        "outputId": "dbddbaec-e713-4e6b-8871-e8f89783eb71"
      },
      "cell_type": "code",
      "source": [
        "corona[corona['weekly_count']<100]\n"
      ],
      "execution_count": null,
      "outputs": [
        {
          "output_type": "error",
          "ename": "NameError",
          "evalue": "name 'corona' is not defined",
          "traceback": [
            "\u001b[0;31m---------------------------------------------------------------------------\u001b[0m",
            "\u001b[0;31mNameError\u001b[0m                                 Traceback (most recent call last)",
            "\u001b[0;32m<ipython-input-27-3c6c200a9cf0>\u001b[0m in \u001b[0;36m<module>\u001b[0;34m\u001b[0m\n\u001b[0;32m----> 1\u001b[0;31m \u001b[0mcorona\u001b[0m\u001b[0;34m[\u001b[0m\u001b[0mcorona\u001b[0m\u001b[0;34m[\u001b[0m\u001b[0;34m'weekly_count'\u001b[0m\u001b[0;34m]\u001b[0m\u001b[0;34m<\u001b[0m\u001b[0;36m100\u001b[0m\u001b[0;34m]\u001b[0m\u001b[0;34m\u001b[0m\u001b[0;34m\u001b[0m\u001b[0m\n\u001b[0m",
            "\u001b[0;31mNameError\u001b[0m: name 'corona' is not defined"
          ]
        }
      ]
    },
    {
      "metadata": {
        "id": "7KY7EKn5u41I"
      },
      "cell_type": "code",
      "source": [
        ""
      ],
      "execution_count": null,
      "outputs": []
    }
  ],
  "metadata": {
    "kernelspec": {
      "name": "python3",
      "display_name": "Python 3.7",
      "language": "python"
    },
    "language_info": {
      "name": "python",
      "version": "3.7.11",
      "mimetype": "text/x-python",
      "codemirror_mode": {
        "name": "ipython",
        "version": 3
      },
      "pygments_lexer": "ipython3",
      "nbconvert_exporter": "python",
      "file_extension": ".py"
    },
    "colab": {
      "name": "corona2021_.ipynb",
      "provenance": [],
      "include_colab_link": true
    }
  },
  "nbformat": 4,
  "nbformat_minor": 0
}